{
 "cells": [
  {
   "cell_type": "markdown",
   "id": "3af4ad29-ce46-4c7b-a04d-e5f0cb69f6ac",
   "metadata": {},
   "source": [
    "# Data Science Tools and Ecosystems"
   ]
  },
  {
   "cell_type": "markdown",
   "id": "59b23abb-4ea5-42dc-a3b9-b670ca4df95e",
   "metadata": {},
   "source": [
    "In this notebook, Data Science Tools and Ecosystem are summarized."
   ]
  },
  {
   "cell_type": "markdown",
   "id": "d623ef69-4e73-4ef8-881d-320b56751c61",
   "metadata": {},
   "source": [
    "## Author\n",
    "Robert SV Percell"
   ]
  },
  {
   "cell_type": "markdown",
   "id": "23d6af5f-b7b0-4dab-9113-1dc450dcc21d",
   "metadata": {},
   "source": [
    "**Objectives:**\n",
    "* List popular languages for data science\n",
    "* List popular libraries for data science\n",
    "* List popular tools for data science\n",
    "* Show some popular arithmetic expressions in python"
   ]
  },
  {
   "cell_type": "markdown",
   "id": "79708a52-0bf8-41f0-bd3d-ddf9bdef3683",
   "metadata": {},
   "source": [
    "Some of the popular languages that Data Scientists use are:\n",
    "1. Python\n",
    "2. R\n",
    "3. Julia"
   ]
  },
  {
   "cell_type": "markdown",
   "id": "25bf1b67-9b8f-4ea4-a6ca-a2ede9c52c6e",
   "metadata": {},
   "source": [
    "Some of the commonly used libraries used by Data Scientists include:\n",
    "1. Pandas\n",
    "2. Seaborn\n",
    "3. numpy"
   ]
  },
  {
   "cell_type": "markdown",
   "id": "fd8309a9-ad61-4e4c-ac41-bb91fc2d13f5",
   "metadata": {},
   "source": [
    "| Data Science Tools |\n",
    "| --- |\n",
    "| Anaconda |\n",
    "| Jupyter Labs |\n",
    "| RStudio |"
   ]
  },
  {
   "cell_type": "markdown",
   "id": "e077271b-9d7c-4221-a312-fca3ea7fcdc7",
   "metadata": {},
   "source": [
    "### Below are a few examples of evaulating arithmetic expressions in Python\n"
   ]
  },
  {
   "cell_type": "code",
   "execution_count": 2,
   "id": "48d61043-8cfc-4a53-b269-33abb04d5feb",
   "metadata": {},
   "outputs": [
    {
     "data": {
      "text/plain": [
       "17"
      ]
     },
     "execution_count": 2,
     "metadata": {},
     "output_type": "execute_result"
    }
   ],
   "source": [
    "# This is a simple arithmetic expression to multiply then add integers\n",
    "(3*4)+5"
   ]
  },
  {
   "cell_type": "code",
   "execution_count": 3,
   "id": "a8326112-357f-45ea-bfaa-3084ac89889b",
   "metadata": {},
   "outputs": [
    {
     "name": "stdout",
     "output_type": "stream",
     "text": [
      "3.3333333333333335\n"
     ]
    }
   ],
   "source": [
    "# This will convert 200 minutes to hours by dividing by 60\n",
    "minval = 200\n",
    "hours = minval / 60\n",
    "print(hours)"
   ]
  },
  {
   "cell_type": "markdown",
   "id": "b7adc840-4686-4843-b48a-9d8e7602ccb8",
   "metadata": {},
   "source": []
  }
 ],
 "metadata": {
  "kernelspec": {
   "display_name": "Python 3",
   "language": "python",
   "name": "python3"
  },
  "language_info": {
   "codemirror_mode": {
    "name": "ipython",
    "version": 3
   },
   "file_extension": ".py",
   "mimetype": "text/x-python",
   "name": "python",
   "nbconvert_exporter": "python",
   "pygments_lexer": "ipython3",
   "version": "3.8.8"
  }
 },
 "nbformat": 4,
 "nbformat_minor": 5
}
